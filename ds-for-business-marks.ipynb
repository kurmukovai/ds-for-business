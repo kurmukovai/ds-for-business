{
 "cells": [
  {
   "cell_type": "code",
   "execution_count": 1,
   "id": "fe96f1a6",
   "metadata": {},
   "outputs": [],
   "source": [
    "import pandas as pd\n",
    "\n",
    "# Read the Excel file\n",
    "xls = pd.ExcelFile('ds_for_business_2023_final_1_4.xlsx')\n",
    "\n",
    "# Read each sheet into a separate DataFrame\n",
    "df1 = pd.read_excel(xls, 'hw1', header=None)\n",
    "df1 = df1.rename(columns={1:'hw1'})\n",
    "df1[0] = df1[0].str.strip()\n",
    "\n",
    "df2 = pd.read_excel(xls, 'hw2', header=None)\n",
    "df2 = df2.drop(0, axis=1)\n",
    "df2 = df2.rename(columns={2:0})\n",
    "df2 = df2.rename(columns={1:'hw2'})\n",
    "df2.replace('krkabarideva@edu.hse.ru', 'krkabardieva@edu.hse.ru', inplace=True)\n",
    "df2[0] = df2[0].str.strip()\n",
    "\n",
    "df3 = pd.read_excel(xls, 'hw3', header=None)\n",
    "df3 = df3.drop(0, axis=1)\n",
    "df3 = df3.rename(columns={2:0})\n",
    "df3 = df3.rename(columns={1:'hw3'})\n",
    "df3[0] = df3[0].str.strip()\n",
    "\n",
    "df4 = pd.read_excel(xls, 'hw4', header=None)\n",
    "df4 = df4.rename(columns={1:'hw4'})\n",
    "df4[0] = df4[0].str.strip()\n",
    "\n",
    "df5 =  pd.read_excel(xls, 'hw5', header=None)\n",
    "df5 = df5.rename(columns={1:'hw5'})\n",
    "df5[0] = df5[0].str.strip()\n",
    "\n",
    "# Merge all DataFrames into one\n",
    "df = pd.merge(df1, df2, how='outer', on=0)\n",
    "df = pd.merge(df, df3, how='outer', on=0)\n",
    "df = pd.merge(df, df4, how='outer', on=0)\n",
    "df = pd.merge(df, df5, how='outer', on=0)\n",
    "\n",
    "# total\n",
    "scores = df[['hw1', 'hw2', 'hw3', 'hw4', 'hw5']].sum(axis=1).values#.value_counts().sort_index().plot()\n",
    "df[['has_hw1', 'has_hw2', 'has_hw3', 'has_hw4', 'has_hw5']] = ~df[['hw1', 'hw2', 'hw3', 'hw4', 'hw5']].isna()\n",
    "df = df.rename(columns={0:'email'})\n",
    "df['total'] = df[['hw1', 'hw2', 'hw3', 'hw4', 'hw5']].sum(axis=1)\n",
    "df['mark'] = (df['total']+5) // 10\n",
    "df['mark'] = df['mark'].apply(lambda x: min(x, 10))"
   ]
  },
  {
   "cell_type": "code",
   "execution_count": 2,
   "id": "d86da0eb",
   "metadata": {},
   "outputs": [],
   "source": [
    "import matplotlib.pyplot as plt\n",
    "%matplotlib inline\n",
    "import numpy as np"
   ]
  },
  {
   "cell_type": "code",
   "execution_count": 3,
   "id": "e6e7bcec",
   "metadata": {},
   "outputs": [
    {
     "data": {
      "image/png": "[encoded data removed]",
      "text/plain": [
       "<Figure size 640x480 with 1 Axes>"
      ]
     },
     "metadata": {},
     "output_type": "display_data"
    }
   ],
   "source": [
    "# bins from 0 to 150, step 10\n",
    "bins = np.arange(0, 130, 10)\n",
    "\n",
    "# Use numpy.histogram to get counts in each bin\n",
    "counts, edges = np.histogram(scores, bins)\n",
    "\n",
    "plt.bar(edges[1:], counts, width=5);"
   ]
  },
  {
   "cell_type": "code",
   "execution_count": 4,
   "id": "3f060812",
   "metadata": {},
   "outputs": [],
   "source": [
    "df.sort_values(['mark', 'total']).reset_index(drop=True).to_csv('has_hw1_5.csv')\n",
    "df = pd.read_csv('has_hw1_5.csv', index_col=0)\n",
    "df = df.fillna('no submit')"
   ]
  },
  {
   "cell_type": "code",
   "execution_count": 5,
   "id": "5f7512f4",
   "metadata": {},
   "outputs": [],
   "source": [
    "from tqdm import tqdm\n",
    "import smtplib\n",
    "from email.mime.multipart import MIMEMultipart\n",
    "from email.mime.text import MIMEText\n",
    "\n",
    "def send_email(smtp_server, port, sender_email, password, recipient_email, subject, body):\n",
    "    msg = MIMEMultipart()\n",
    "    msg['From'] = sender_email\n",
    "    msg['To'] = recipient_email\n",
    "    msg['Subject'] = subject\n",
    "    msg.attach(MIMEText(body, 'plain'))\n",
    "\n",
    "    server = smtplib.SMTP(smtp_server, port)\n",
    "    server.starttls()\n",
    "    server.login(sender_email, password)\n",
    "    server.send_message(msg)\n",
    "    server.quit()\n",
    "\n",
    "smtp_server = 'smtp.gmail.com'\n",
    "port = 587\n",
    "sender_email = ''  # your email\n",
    "password = ''  # your password\n",
    "recipient_emails = []  # recipients' emails\n",
    "subject = ''\n",
    "\n",
    "for recipient in recipient_emails:\n",
    "    send_email(smtp_server, port, sender_email, password, recipient, subject, body)"
   ]
  },
  {
   "cell_type": "code",
   "execution_count": null,
   "id": "e1333e3c",
   "metadata": {},
   "outputs": [],
   "source": []
  },
  {
   "cell_type": "code",
   "execution_count": null,
   "id": "40290e02",
   "metadata": {},
   "outputs": [],
   "source": []
  }
 ],
 "metadata": {
  "kernelspec": {
   "display_name": "Python 3 (ipykernel)",
   "language": "python",
   "name": "python3"
  },
  "language_info": {
   "codemirror_mode": {
    "name": "ipython",
    "version": 3
   },
   "file_extension": ".py",
   "mimetype": "text/x-python",
   "name": "python",
   "nbconvert_exporter": "python",
   "pygments_lexer": "ipython3",
   "version": "3.11.3"
  }
 },
 "nbformat": 4,
 "nbformat_minor": 5
}
